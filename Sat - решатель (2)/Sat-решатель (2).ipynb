{
 "cells": [
  {
   "cell_type": "code",
   "execution_count": 1,
   "id": "16d80d89",
   "metadata": {},
   "outputs": [],
   "source": [
    "from subprocess import run\n",
    "from itertools import product\n",
    "from functools import namedtuple\n",
    "\n",
    "import matplotlib.pyplot as plt\n",
    "from PIL import Image"
   ]
  },
  {
   "cell_type": "code",
   "execution_count": 2,
   "id": "64512319",
   "metadata": {},
   "outputs": [],
   "source": [
    "Result = namedtuple('Result', ['n_nodes', 'n_vars', 'n_outputs', 'node_basis_idx', 'node_left_idx', 'node_right_idx', 'node_output_idx'])\n",
    "\n",
    "AND = (0, 0, 0, 1)\n",
    "OR = (0, 1, 1, 1)\n",
    "NOT = (1, 1, 0, 0)"
   ]
  },
  {
   "cell_type": "code",
   "execution_count": 3,
   "id": "ba17e87e",
   "metadata": {},
   "outputs": [],
   "source": [
    "def T(i, b1, b2):\n",
    "    return 1 + 4*i + 2*b1 + b2"
   ]
  },
  {
   "cell_type": "code",
   "execution_count": 4,
   "id": "59e10205",
   "metadata": {},
   "outputs": [],
   "source": [
    "def C(i, k, j, n, N):\n",
    "    return T(N-1, 1, 1) + 1 + 2*(n+N)*i + (n+N)*k + j"
   ]
  },
  {
   "cell_type": "code",
   "execution_count": 5,
   "id": "4dbe7165",
   "metadata": {},
   "outputs": [],
   "source": [
    "def O(i, j, n, N, m):\n",
    "        return C(N-1, 1, n+N-1, n, N) + 1 + m*i + j"
   ]
  },
  {
   "cell_type": "code",
   "execution_count": 6,
   "id": "40b7fdcb",
   "metadata": {},
   "outputs": [],
   "source": [
    "def V(j, t, n, N, m):\n",
    "        return O(N-1, m-1, n, N, m) + 1 + 2**n*j + t"
   ]
  },
  {
   "cell_type": "code",
   "execution_count": 7,
   "id": "4090f071",
   "metadata": {},
   "outputs": [],
   "source": [
    "def satn(n, N, m, f, basis=[AND, OR, NOT], input_path='sat-input', output_path='sat-output'):\n",
    "    n_vars = V(n+N-1, 2**n - 1, n, N, m)\n",
    "    n_rest = (\n",
    "        (2**4 - len(basis))*N +\n",
    "        2*sum([1 + (n+i)*(n+i-1)//2 for i in range(N)]) +\n",
    "        m*(1 + N*(N-1)//2) +\n",
    "        n*2**n + sum([(n+i)**2 * 2**n * 8 for i in range(N)]) +\n",
    "        N*m*2**n\n",
    "    )\n",
    "    \n",
    "    with open(input_path, 'w') as sat:\n",
    "        def write(xs):\n",
    "            sat.write((' '.join(map(str, xs + [0])) + '\\n'))\n",
    "        sat.write('p cnf {} {}\\n'.format(n_vars, n_rest))\n",
    "        \n",
    "        for v in product([0, 1], repeat=4):\n",
    "            if v not in basis:\n",
    "                for i in range(N):\n",
    "                    write([\n",
    "                        (1 - 2*v[j])*T(i, b1, b2)\n",
    "                        for j, (b1, b2) in enumerate(product([0, 1], repeat = 2))\n",
    "                    ])\n",
    "                    \n",
    "        for i in range(N):\n",
    "            for k in [0, 1]:\n",
    "                write([\n",
    "                    C(i, k, j, n, N)\n",
    "                    for j in range (n+i)\n",
    "                ])\n",
    "                for j1 in range(n+i):\n",
    "                    for j2 in range(j1):\n",
    "                        write([-C(i, k, j1, n, N), -C(i, k, j2, n, N)])\n",
    "                        \n",
    "        for j in range(m):\n",
    "            write([\n",
    "                O(i, j, n, N, m)\n",
    "                for i in range(N)\n",
    "            ])\n",
    "            for i1 in range(N):\n",
    "                for i2 in range(i1):\n",
    "                    write([-O(i1, j, n, N, m), - O(i2, j, n, N, m)])\n",
    "                    \n",
    "        for t, w in enumerate(product([0, 1], repeat=n)):\n",
    "            for j in range(n):\n",
    "                write([(2*w[j] - 1)*V(j, t, n, N, m)])\n",
    "                \n",
    "        for i in range(N):\n",
    "            for j0, j1 in product(range(n+i), repeat=2):\n",
    "                for t in range(2**n):\n",
    "                    for t0, t1 in product([0, 1], repeat=2):\n",
    "                        write([\n",
    "                            -C(i, 0, j0, n, N), -C(i, 1, j1, n, N),\n",
    "                            (1 - 2*t0)*V(j0, t, n, N, m), (1 - 2*t1)*V(j1, t, n, N, m),\n",
    "                            -V(n+i, t, n, N, m), T(i, t0, t1)\n",
    "                        ])\n",
    "                        write([\n",
    "                            -C(i, 0, j0, n, N), -C(i, 1, j1, n, N),\n",
    "                            (1 - 2*t0)*V(j0, t, n, N, m), (1 - 2*t1)*V(j1, t, n, N, m),\n",
    "                            V(n+i, t, n, N, m), -T(i, t0, t1)\n",
    "                        ])\n",
    "                        \n",
    "        for i in range(N):\n",
    "            for k in range(m):\n",
    "                for t, xs in enumerate(product([0, 1], repeat=n)):\n",
    "                    write([-O(i, k, n, N, m), (2*f(*xs)[k] - 1)*V(n+i, t, n, N, m)])\n",
    "                    \n",
    "    run(['minisat', input_path, output_path])\n",
    "    \n",
    "    with open('sat-output') as sat:\n",
    "        status = sat.readline().strip()\n",
    "        if status == 'SAT':\n",
    "            values = dict()\n",
    "            for code in map(int, sat.readline().split()):\n",
    "                var_id = abs(code)\n",
    "                var_val = int(code > 0)\n",
    "                if var_id != 0:\n",
    "                    values[var_id] = var_val\n",
    "                    \n",
    "            fs = []\n",
    "            os = []\n",
    "            i0 = []\n",
    "            i1 = []\n",
    "            for i in range(N):\n",
    "                v = tuple([values[T(i, b1, b2)] for b1, b2 in product([0,1], repeat=2)])\n",
    "                fs.append(basis.index(v))\n",
    "                \n",
    "                for j in range(m):\n",
    "                    if values[O(i, j, n, N, m)]:\n",
    "                        os.append(j)\n",
    "                        break\n",
    "                else:\n",
    "                    os.append(None)\n",
    "                    \n",
    "                for j in range(n+i):\n",
    "                    if values[C(i, 0, j, n, N)]:\n",
    "                        i0.append(j-n)\n",
    "                        break\n",
    "                        \n",
    "                for j in range(n+i):\n",
    "                    if values[C(i, 1, j, n, N)]:\n",
    "                        i1.append(j-n)\n",
    "                        break\n",
    "                        \n",
    "            return Result(n_nodes=N, n_vars=n, n_outputs=m, node_basis_idx=fs, node_left_idx=i0, \n",
    "                                                          node_right_idx=i1, node_output_idx=os)\n",
    "        elif status == 'UNSAT':\n",
    "            return None\n",
    "        else: \n",
    "            raise Exception('Unkhown status: {}'.format(status))"
   ]
  },
  {
   "cell_type": "code",
   "execution_count": 8,
   "id": "0e02972e",
   "metadata": {},
   "outputs": [],
   "source": [
    "def optimize(n, m, f, basis=[AND, OR, NOT]):\n",
    "    N = 1\n",
    "    while satn(n, N, m, f, basis=basis) is None:\n",
    "        N *= 2\n",
    "        \n",
    "    lo = 1\n",
    "    hi = N\n",
    "    \n",
    "    while lo < hi:\n",
    "        mi = (lo + hi) // 2\n",
    "        if satn(n, mi, m, f, basis=basis) is None:\n",
    "            lo = mi + 1\n",
    "        else:\n",
    "            hi = mi\n",
    "            \n",
    "    return satn(n, hi, m, f, basis=basis)"
   ]
  },
  {
   "cell_type": "code",
   "execution_count": 9,
   "id": "d1c685bb",
   "metadata": {},
   "outputs": [],
   "source": [
    "def plot_graph(res, basis_name, graph_path='res.gv', img_path='res.png'):\n",
    "    with open(graph_path, 'w') as graph:\n",
    "        def write(s):\n",
    "            graph.write(s + '\\n')\n",
    "        write('digraph impl {')\n",
    "        \n",
    "        for i in range(res.n_vars):\n",
    "            write('x{}[shape=circle color=red];'.format(i))\n",
    "            \n",
    "        for i in range(res.n_outputs):\n",
    "            write('y{}[shape=circle color=blue];'.format(i))\n",
    "            \n",
    "        for i in range(res.n_nodes):\n",
    "            write('f{}[shape=invhouse label={}];'.format(i, basis_name[res.node_basis_idx[i]]))\n",
    "            if res.node_left_idx[i] < 0:\n",
    "                write('x{}->f{}[label=L];'.format(res.node_left_idx[i]+res.n_vars, i))\n",
    "            else:\n",
    "                write('f{}->f{}[label=L];'.format(res.node_left_idx[i], i))\n",
    "                \n",
    "            if res.node_right_idx[i] < 0:\n",
    "                write('x{}->f{}[label=R];'.format(res.node_right_idx[i]+res.n_vars, i))\n",
    "            else:\n",
    "                write('f{}->f{}[label=R];'.format(res.node_right_idx[i], i))\n",
    "            \n",
    "            if res.node_output_idx[i] is not None:\n",
    "                write('f{}->y{}[label=R];'.format(i, res.node_output_idx[i]))\n",
    "                \n",
    "        write('}')\n",
    "        \n",
    "    !dot -Tpng 'res.gv' -o 'res.png'"
   ]
  },
  {
   "cell_type": "code",
   "execution_count": 13,
   "id": "dc79b56a",
   "metadata": {},
   "outputs": [
    {
     "data": {
      "image/png": "[encoded data removed]",
      "text/plain": [
       "<PIL.PngImagePlugin.PngImageFile image mode=RGBA size=316x545 at 0x7F9C7E3ADD90>"
      ]
     },
     "execution_count": 13,
     "metadata": {},
     "output_type": "execute_result"
    }
   ],
   "source": [
    "PA = (1, 0, 0, 0)\n",
    "\n",
    "def f(x, y):\n",
    "    return (x*y + (1-x)*(1-y), x*y)\n",
    "\n",
    "res = optimize(2, 2, f, basis=[PA])\n",
    "plot_graph(res, basis_name=['PA'])\n",
    "Image.open('res.png')"
   ]
  },
  {
   "cell_type": "code",
   "execution_count": null,
   "id": "f700d8c0",
   "metadata": {},
   "outputs": [],
   "source": []
  }
 ],
 "metadata": {
  "kernelspec": {
   "display_name": "Python 3",
   "language": "python",
   "name": "python3"
  },
  "language_info": {
   "codemirror_mode": {
    "name": "ipython",
    "version": 3
   },
   "file_extension": ".py",
   "mimetype": "text/x-python",
   "name": "python",
   "nbconvert_exporter": "python",
   "pygments_lexer": "ipython3",
   "version": "3.8.5"
  }
 },
 "nbformat": 4,
 "nbformat_minor": 5
}
