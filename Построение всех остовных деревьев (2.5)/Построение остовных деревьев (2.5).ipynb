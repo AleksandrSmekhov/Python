{
 "cells": [
  {
   "cell_type": "code",
   "execution_count": null,
   "metadata": {},
   "outputs": [],
   "source": [
    "#Дан граф в виде списка смежности, нарисовать (в виде одного документа пдф или хтмл) все его омтовные деревья."
   ]
  },
  {
   "cell_type": "code",
   "execution_count": 16,
   "metadata": {},
   "outputs": [],
   "source": [
    "import networkx as nx\n",
    "import matplotlib.pyplot as plt\n",
    "from matplotlib.backends.backend_pdf import PdfPages\n",
    "\n",
    "Adj_list = [\n",
    "    [1, 2],\n",
    "    [0, 2, 3, 4],\n",
    "    [1, 2, 3],\n",
    "    [1, 2, 4],\n",
    "    [1, 3],\n",
    "]\n",
    "\n",
    "G = nx.Graph()\n",
    "\n",
    "cur_edge = 0\n",
    "for edges in Adj_list:\n",
    "    for dist_edge in edges:\n",
    "        G.add_edge(cur_edge, dist_edge)\n",
    "    cur_edge += 1\n",
    "\n",
    "def create_next_tree(G, seen_nodes, seen_edges):\n",
    "    \n",
    "    next_nodes = list()\n",
    "    next_edges = list()\n",
    "\n",
    "    for node in seen_nodes:\n",
    "        for nb_node in nx.neighbors(G, node):\n",
    "            if nb_node not in seen_nodes:\n",
    "                next_edges.append([(nb_node, node), (node, nb_node)])\n",
    "                next_nodes.append(nb_node)\n",
    "                \n",
    "    return zip([seen_nodes | set([node]) for node in next_nodes], [seen_edges | set(edge) for edge in next_edges])\n",
    "    \n",
    "def busting_trees(G, root = 0):\n",
    "    \n",
    "    trees = [(set([root]), set([]))]\n",
    "    \n",
    "    for i in range(G.number_of_nodes() - 1):\n",
    "        \n",
    "        next_trees = []\n",
    "        for (nodes, edges) in trees:\n",
    "            next_trees.append(create_next_tree(G, nodes, edges))\n",
    "        \n",
    "        trees = list()\n",
    "        \n",
    "        for tree in next_trees:\n",
    "            for pair in tree:\n",
    "                if not pair in trees:\n",
    "                    trees.append(pair)\n",
    "        \n",
    "    return set([nx.from_edgelist(edges) for (nodes, edges) in trees])\n",
    "        \n",
    "all_t = busting_trees(G)        \n",
    "\n",
    "with PdfPages('AllTrees.pdf') as pdf:\n",
    "    for t in all_t:\n",
    "        nx.draw(t, with_labels = True)\n",
    "        pdf.savefig()\n",
    "        #plt.show()\n",
    "        plt.close()"
   ]
  },
  {
   "cell_type": "code",
   "execution_count": null,
   "metadata": {},
   "outputs": [],
   "source": []
  }
 ],
 "metadata": {
  "kernelspec": {
   "display_name": "Python 3",
   "language": "python",
   "name": "python3"
  },
  "language_info": {
   "codemirror_mode": {
    "name": "ipython",
    "version": 3
   },
   "file_extension": ".py",
   "mimetype": "text/x-python",
   "name": "python",
   "nbconvert_exporter": "python",
   "pygments_lexer": "ipython3",
   "version": "3.7.3"
  }
 },
 "nbformat": 4,
 "nbformat_minor": 2
}
